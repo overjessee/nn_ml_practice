{
 "cells": [
  {
   "cell_type": "markdown",
   "id": "bc9520d2",
   "metadata": {
    "id": "bc9520d2"
   },
   "source": [
    "# Лабораторная работа №3\n",
    "\n",
    "ФИО: Егоров Вадим Евгеньевич   \n",
    "Группа: БИВТ-21-1\n",
    "\n",
    "Отправлять можно следующими способами:\n",
    "1. Запушить этот ноутбук в GitHub в репозиторий, где у вас лежат ноутбуки с лабами\n",
    "\n",
    "Deadlines:\n",
    "- Занятие №7 в семестре (Занятие №3 очное)\n",
    "\n",
    "Что необходимо сделать:  \n",
    "- Обучить различного рода модели машинного обучения и сравнить их между собой  \n",
    "\n",
    "---\n",
    "## Читайте задание внимательно\n",
    "\n",
    "Исходные данные:\n",
    "1. В [табличке](https://docs.google.com/spreadsheets/d/11600OkqdRzxc-xZmFTuBs099VeAqU_GlE0Bx6bBlIRE/edit?usp=sharing) необходимо узнать название своего датасета\n",
    "2. Скачать нужны вам данные можно в [Google Drive](https://drive.google.com/drive/folders/1Phm-Fq1GL-VX7NS-DCEMRh_Fo1wU7DQ9?usp=sharing)\n",
    "  \n",
    "---\n",
    "Теперь по пунктам, что я от вас жду:  \n",
    "1. Загрузить необходимые данные к себе и считать (read) их в переменную.\n",
    "2. Понять, у вас задача классификации (бинарной или многоклассовой) или регрессии (**если у вас многоклассовая классификация, прочтите P.S.S. внизу**).\n",
    "3. Сделать предобработку данных:  \n",
    "     1. Разделить выборку на тренировочную (train) и тестовую (test). _Обратите внимание, что обучать скейлеры и определять, какими значениями вы будете заполнять пропуски, вы будете на train выборке, а применять и на train, и на test_.\n",
    "     2. Проверить пропуски в данных. Если они есть, заполнить одной из стратегий, предложенных в ноутбуке для семинара №3. P.S. Для численных и категориальных переменных будут разные стратегии.\n",
    "     3. Отнормировать численные переменные (`StandardScaler`, `MinMaxScaler`).\n",
    "     4. Закодировать категориальные признаки по одной из стратегий.\n",
    "4. Обучить на тренировочном множестве:\n",
    "     1. Линейную модель (`LogisticRegression`, `LinearRegression`)\n",
    "     2. Деревянную модель (`DecisionTreeClassifier`, `DecisionTreeRegressor`) (тут советую попробовать разные глубины деревьев)\n",
    "     3. K-ближайших соседей (`KNeighborsClassifier`, `KNeighborsRegressor`) (тут тоже есть смысл попробовать разные `k`)\n",
    "     4. Случайный лес (`RandomForestClassifier`, `RandomForestRegressor`)\n",
    "5. Посчитайте метрики на train и test множествах:\n",
    "     1. Для задачи классификации -- Accuracy, ROC-AUC (график + значение), PR-кривую (график), F1-score\n",
    "     2. Для задачи регрессии -- MAE, RMSE, MAPE\n",
    "6. Сравните метрики относительно train/test, так и относительно разных моделей. Ответьте на следующие вопросы:\n",
    "     1. Какая модель справилась лучше с поставленной задачей?\n",
    "     2. Имеет ли место переобучение?\n",
    "     3. Имеет ли место недообучение?\n",
    "     4. Как можно улучшить метрики моделей?\n",
    "\n",
    "---\n",
    "P.S.  \n",
    "Просьба -- делать каждое задание в отдельных ячейках и с отдельными заголовками (как пункт 1 и 2 в этом ноутбуке) типа  \n",
    "- Заголовок\n",
    "- Ячейки с кодом\n",
    "- Другой заголовок\n",
    "- Другие ячейки с кодом\n",
    "\n",
    "P.S.S.  \n",
    "Если вам повезло с многоклассовой классификацией, вам будет необходимо понять, умеет ли алгоритм работать с несколькими классами одновременно (обычно они не умеют). Поэтому вам может понадобиться такая штука, как OneVsRestClassifier ([ссылка](https://scikit-learn.org/stable/modules/generated/sklearn.multiclass.OneVsRestClassifier.html#sklearn.multiclass.OneVsRestClassifier)), но советую ознакомиться с этой [страницей](https://scikit-learn.org/stable/modules/multiclass.html), здесь представлена более полная информация."
   ]
  },
  {
   "cell_type": "markdown",
   "id": "3n1PMSns2fFN",
   "metadata": {
    "id": "3n1PMSns2fFN"
   },
   "source": []
  },
  {
   "cell_type": "markdown",
   "id": "28b51062",
   "metadata": {
    "id": "28b51062"
   },
   "source": [
    "## 1. Пример импорта данных"
   ]
  },
  {
   "cell_type": "code",
   "execution_count": 1,
   "id": "2ziQPTqT2zip",
   "metadata": {
    "id": "2ziQPTqT2zip"
   },
   "outputs": [],
   "source": [
    "import numpy as np\n",
    "import pandas as pd"
   ]
  },
  {
   "cell_type": "code",
   "execution_count": 2,
   "id": "wDTVbDSU20i7",
   "metadata": {
    "id": "wDTVbDSU20i7"
   },
   "outputs": [],
   "source": [
    "path_to_dataset = './Admission_Predict.csv'"
   ]
  },
  {
   "cell_type": "code",
   "execution_count": 3,
   "id": "dzzleRr724Bf",
   "metadata": {
    "id": "dzzleRr724Bf"
   },
   "outputs": [],
   "source": [
    "data = pd.read_csv(path_to_dataset, sep=',')"
   ]
  },
  {
   "cell_type": "code",
   "execution_count": 4,
   "id": "406597a7",
   "metadata": {
    "colab": {
     "base_uri": "https://localhost:8080/",
     "height": 206
    },
    "id": "406597a7",
    "outputId": "86ec1de4-4d34-4b07-93e2-8be4aec22cf9"
   },
   "outputs": [
    {
     "data": {
      "text/html": [
       "<div>\n",
       "<style scoped>\n",
       "    .dataframe tbody tr th:only-of-type {\n",
       "        vertical-align: middle;\n",
       "    }\n",
       "\n",
       "    .dataframe tbody tr th {\n",
       "        vertical-align: top;\n",
       "    }\n",
       "\n",
       "    .dataframe thead th {\n",
       "        text-align: right;\n",
       "    }\n",
       "</style>\n",
       "<table border=\"1\" class=\"dataframe\">\n",
       "  <thead>\n",
       "    <tr style=\"text-align: right;\">\n",
       "      <th></th>\n",
       "      <th>Serial No.</th>\n",
       "      <th>GRE Score</th>\n",
       "      <th>TOEFL Score</th>\n",
       "      <th>University Rating</th>\n",
       "      <th>SOP</th>\n",
       "      <th>LOR</th>\n",
       "      <th>CGPA</th>\n",
       "      <th>Research</th>\n",
       "      <th>Chance of Admit</th>\n",
       "    </tr>\n",
       "  </thead>\n",
       "  <tbody>\n",
       "    <tr>\n",
       "      <th>0</th>\n",
       "      <td>1</td>\n",
       "      <td>337</td>\n",
       "      <td>118</td>\n",
       "      <td>4</td>\n",
       "      <td>4.5</td>\n",
       "      <td>4.5</td>\n",
       "      <td>9.65</td>\n",
       "      <td>1</td>\n",
       "      <td>0.92</td>\n",
       "    </tr>\n",
       "    <tr>\n",
       "      <th>1</th>\n",
       "      <td>2</td>\n",
       "      <td>324</td>\n",
       "      <td>107</td>\n",
       "      <td>4</td>\n",
       "      <td>4.0</td>\n",
       "      <td>4.5</td>\n",
       "      <td>8.87</td>\n",
       "      <td>1</td>\n",
       "      <td>0.76</td>\n",
       "    </tr>\n",
       "    <tr>\n",
       "      <th>2</th>\n",
       "      <td>3</td>\n",
       "      <td>316</td>\n",
       "      <td>104</td>\n",
       "      <td>3</td>\n",
       "      <td>3.0</td>\n",
       "      <td>3.5</td>\n",
       "      <td>8.00</td>\n",
       "      <td>1</td>\n",
       "      <td>0.72</td>\n",
       "    </tr>\n",
       "    <tr>\n",
       "      <th>3</th>\n",
       "      <td>4</td>\n",
       "      <td>322</td>\n",
       "      <td>110</td>\n",
       "      <td>3</td>\n",
       "      <td>3.5</td>\n",
       "      <td>2.5</td>\n",
       "      <td>8.67</td>\n",
       "      <td>1</td>\n",
       "      <td>0.80</td>\n",
       "    </tr>\n",
       "    <tr>\n",
       "      <th>4</th>\n",
       "      <td>5</td>\n",
       "      <td>314</td>\n",
       "      <td>103</td>\n",
       "      <td>2</td>\n",
       "      <td>2.0</td>\n",
       "      <td>3.0</td>\n",
       "      <td>8.21</td>\n",
       "      <td>0</td>\n",
       "      <td>0.65</td>\n",
       "    </tr>\n",
       "  </tbody>\n",
       "</table>\n",
       "</div>"
      ],
      "text/plain": [
       "   Serial No.  GRE Score  TOEFL Score  University Rating  SOP  LOR   CGPA  \\\n",
       "0           1        337          118                  4  4.5   4.5  9.65   \n",
       "1           2        324          107                  4  4.0   4.5  8.87   \n",
       "2           3        316          104                  3  3.0   3.5  8.00   \n",
       "3           4        322          110                  3  3.5   2.5  8.67   \n",
       "4           5        314          103                  2  2.0   3.0  8.21   \n",
       "\n",
       "   Research  Chance of Admit   \n",
       "0         1              0.92  \n",
       "1         1              0.76  \n",
       "2         1              0.72  \n",
       "3         1              0.80  \n",
       "4         0              0.65  "
      ]
     },
     "execution_count": 4,
     "metadata": {},
     "output_type": "execute_result"
    }
   ],
   "source": [
    "data.head()"
   ]
  },
  {
   "cell_type": "markdown",
   "id": "0d119028",
   "metadata": {
    "id": "0d119028"
   },
   "source": [
    "## 2. Понимаем, какая перед нами задача"
   ]
  },
  {
   "cell_type": "markdown",
   "id": "6gRSoBT53RxU",
   "metadata": {
    "id": "6gRSoBT53RxU"
   },
   "source": [
    "Задача регрессии.\n",
    "Потому что целевая переменная варьируется в промежутке [0; 1]"
   ]
  },
  {
   "cell_type": "code",
   "execution_count": 7,
   "id": "d92464d0",
   "metadata": {
    "id": "d92464d0"
   },
   "outputs": [],
   "source": [
    "Y = data['Chance of Admit ']\n",
    "X = data.iloc[:, 1:8]"
   ]
  },
  {
   "cell_type": "code",
   "execution_count": 8,
   "id": "qFuUzBVtfI4P",
   "metadata": {
    "colab": {
     "base_uri": "https://localhost:8080/",
     "height": 447
    },
    "id": "qFuUzBVtfI4P",
    "outputId": "4b06b8f2-c6cd-4f16-ca00-ad50afefedd0"
   },
   "outputs": [
    {
     "data": {
      "text/plain": [
       "<Axes: >"
      ]
     },
     "execution_count": 8,
     "metadata": {},
     "output_type": "execute_result"
    },
    {
     "data": {
      "image/png": "[encoded data removed]",
      "text/plain": [
       "<Figure size 640x480 with 1 Axes>"
      ]
     },
     "metadata": {},
     "output_type": "display_data"
    }
   ],
   "source": [
    "Y.hist(bins=30)"
   ]
  },
  {
   "cell_type": "markdown",
   "id": "34931f43",
   "metadata": {
    "id": "34931f43"
   },
   "source": [
    "## 3. Делаем предобработку данных"
   ]
  },
  {
   "cell_type": "markdown",
   "id": "Sl6WXXpjefoX",
   "metadata": {
    "id": "Sl6WXXpjefoX"
   },
   "source": [
    "Деление выборки на тренировочную и тестовую:"
   ]
  },
  {
   "cell_type": "code",
   "execution_count": 9,
   "id": "67a611d0",
   "metadata": {
    "id": "67a611d0"
   },
   "outputs": [],
   "source": [
    "from sklearn.model_selection import train_test_split\n",
    "\n",
    "X_train, X_test, Y_train, Y_test = train_test_split(X, Y, test_size=0.2, random_state=42)"
   ]
  },
  {
   "cell_type": "markdown",
   "id": "q-WG2guqeoAS",
   "metadata": {
    "id": "q-WG2guqeoAS"
   },
   "source": [
    "Проверка на пропуски:"
   ]
  },
  {
   "cell_type": "code",
   "execution_count": 10,
   "id": "JL8OneALi9NF",
   "metadata": {
    "colab": {
     "base_uri": "https://localhost:8080/"
    },
    "id": "JL8OneALi9NF",
    "outputId": "808f141c-b769-4b56-8e5d-7457f450376e"
   },
   "outputs": [
    {
     "data": {
      "text/plain": [
       "Serial No.           0\n",
       "GRE Score            0\n",
       "TOEFL Score          0\n",
       "University Rating    0\n",
       "SOP                  0\n",
       "LOR                  0\n",
       "CGPA                 0\n",
       "Research             0\n",
       "Chance of Admit      0\n",
       "dtype: int64"
      ]
     },
     "execution_count": 10,
     "metadata": {},
     "output_type": "execute_result"
    }
   ],
   "source": [
    "pd.isna(data).sum()"
   ]
  },
  {
   "cell_type": "markdown",
   "id": "X2hEWkKnjLZa",
   "metadata": {
    "id": "X2hEWkKnjLZa"
   },
   "source": [
    "Пропусков нет, значит датасет качественный"
   ]
  },
  {
   "cell_type": "markdown",
   "id": "yLVySqbJjRqv",
   "metadata": {
    "id": "yLVySqbJjRqv"
   },
   "source": [
    "Нормировка численные переменные:"
   ]
  },
  {
   "cell_type": "code",
   "execution_count": 11,
   "id": "4o_FF7vSjop6",
   "metadata": {
    "colab": {
     "base_uri": "https://localhost:8080/",
     "height": 424
    },
    "id": "4o_FF7vSjop6",
    "outputId": "8aed3dc1-b816-41f9-bf87-ab68b8318550"
   },
   "outputs": [
    {
     "data": {
      "text/html": [
       "<div>\n",
       "<style scoped>\n",
       "    .dataframe tbody tr th:only-of-type {\n",
       "        vertical-align: middle;\n",
       "    }\n",
       "\n",
       "    .dataframe tbody tr th {\n",
       "        vertical-align: top;\n",
       "    }\n",
       "\n",
       "    .dataframe thead th {\n",
       "        text-align: right;\n",
       "    }\n",
       "</style>\n",
       "<table border=\"1\" class=\"dataframe\">\n",
       "  <thead>\n",
       "    <tr style=\"text-align: right;\">\n",
       "      <th></th>\n",
       "      <th>GRE Score</th>\n",
       "      <th>TOEFL Score</th>\n",
       "      <th>University Rating</th>\n",
       "      <th>SOP</th>\n",
       "      <th>LOR</th>\n",
       "      <th>CGPA</th>\n",
       "      <th>Research</th>\n",
       "    </tr>\n",
       "  </thead>\n",
       "  <tbody>\n",
       "    <tr>\n",
       "      <th>0</th>\n",
       "      <td>0.457111</td>\n",
       "      <td>0.424662</td>\n",
       "      <td>-0.057308</td>\n",
       "      <td>0.127156</td>\n",
       "      <td>-1.059652</td>\n",
       "      <td>0.139866</td>\n",
       "      <td>0.927613</td>\n",
       "    </tr>\n",
       "    <tr>\n",
       "      <th>1</th>\n",
       "      <td>0.102289</td>\n",
       "      <td>0.424662</td>\n",
       "      <td>-0.057308</td>\n",
       "      <td>0.617396</td>\n",
       "      <td>-0.501940</td>\n",
       "      <td>0.361100</td>\n",
       "      <td>-1.078036</td>\n",
       "    </tr>\n",
       "    <tr>\n",
       "      <th>2</th>\n",
       "      <td>2.053813</td>\n",
       "      <td>2.085930</td>\n",
       "      <td>1.689221</td>\n",
       "      <td>1.107637</td>\n",
       "      <td>1.171194</td>\n",
       "      <td>2.250095</td>\n",
       "      <td>0.927613</td>\n",
       "    </tr>\n",
       "    <tr>\n",
       "      <th>3</th>\n",
       "      <td>0.279700</td>\n",
       "      <td>-0.572099</td>\n",
       "      <td>-0.057308</td>\n",
       "      <td>-0.363084</td>\n",
       "      <td>-1.059652</td>\n",
       "      <td>-0.030313</td>\n",
       "      <td>0.927613</td>\n",
       "    </tr>\n",
       "    <tr>\n",
       "      <th>4</th>\n",
       "      <td>-0.163828</td>\n",
       "      <td>-1.236607</td>\n",
       "      <td>-1.803837</td>\n",
       "      <td>-1.343565</td>\n",
       "      <td>-1.059652</td>\n",
       "      <td>-1.085428</td>\n",
       "      <td>-1.078036</td>\n",
       "    </tr>\n",
       "    <tr>\n",
       "      <th>...</th>\n",
       "      <td>...</td>\n",
       "      <td>...</td>\n",
       "      <td>...</td>\n",
       "      <td>...</td>\n",
       "      <td>...</td>\n",
       "      <td>...</td>\n",
       "      <td>...</td>\n",
       "    </tr>\n",
       "    <tr>\n",
       "      <th>315</th>\n",
       "      <td>1.698990</td>\n",
       "      <td>0.756915</td>\n",
       "      <td>1.689221</td>\n",
       "      <td>1.597877</td>\n",
       "      <td>1.728905</td>\n",
       "      <td>1.994826</td>\n",
       "      <td>0.927613</td>\n",
       "    </tr>\n",
       "    <tr>\n",
       "      <th>316</th>\n",
       "      <td>1.078051</td>\n",
       "      <td>0.590789</td>\n",
       "      <td>0.815957</td>\n",
       "      <td>1.107637</td>\n",
       "      <td>1.171194</td>\n",
       "      <td>1.007783</td>\n",
       "      <td>0.927613</td>\n",
       "    </tr>\n",
       "    <tr>\n",
       "      <th>317</th>\n",
       "      <td>-0.962179</td>\n",
       "      <td>-0.405973</td>\n",
       "      <td>-0.930573</td>\n",
       "      <td>-0.853324</td>\n",
       "      <td>-0.501940</td>\n",
       "      <td>-0.625942</td>\n",
       "      <td>0.927613</td>\n",
       "    </tr>\n",
       "    <tr>\n",
       "      <th>318</th>\n",
       "      <td>-1.317002</td>\n",
       "      <td>-1.402734</td>\n",
       "      <td>-1.803837</td>\n",
       "      <td>-1.343565</td>\n",
       "      <td>-1.617363</td>\n",
       "      <td>-2.276686</td>\n",
       "      <td>-1.078036</td>\n",
       "    </tr>\n",
       "    <tr>\n",
       "      <th>319</th>\n",
       "      <td>-0.252534</td>\n",
       "      <td>-0.239846</td>\n",
       "      <td>-0.930573</td>\n",
       "      <td>0.617396</td>\n",
       "      <td>0.055771</td>\n",
       "      <td>-0.574888</td>\n",
       "      <td>-1.078036</td>\n",
       "    </tr>\n",
       "  </tbody>\n",
       "</table>\n",
       "<p>320 rows × 7 columns</p>\n",
       "</div>"
      ],
      "text/plain": [
       "     GRE Score  TOEFL Score  University Rating       SOP      LOR       CGPA  \\\n",
       "0     0.457111     0.424662          -0.057308  0.127156 -1.059652  0.139866   \n",
       "1     0.102289     0.424662          -0.057308  0.617396 -0.501940  0.361100   \n",
       "2     2.053813     2.085930           1.689221  1.107637  1.171194  2.250095   \n",
       "3     0.279700    -0.572099          -0.057308 -0.363084 -1.059652 -0.030313   \n",
       "4    -0.163828    -1.236607          -1.803837 -1.343565 -1.059652 -1.085428   \n",
       "..         ...          ...                ...       ...       ...       ...   \n",
       "315   1.698990     0.756915           1.689221  1.597877  1.728905  1.994826   \n",
       "316   1.078051     0.590789           0.815957  1.107637  1.171194  1.007783   \n",
       "317  -0.962179    -0.405973          -0.930573 -0.853324 -0.501940 -0.625942   \n",
       "318  -1.317002    -1.402734          -1.803837 -1.343565 -1.617363 -2.276686   \n",
       "319  -0.252534    -0.239846          -0.930573  0.617396  0.055771 -0.574888   \n",
       "\n",
       "     Research  \n",
       "0    0.927613  \n",
       "1   -1.078036  \n",
       "2    0.927613  \n",
       "3    0.927613  \n",
       "4   -1.078036  \n",
       "..        ...  \n",
       "315  0.927613  \n",
       "316  0.927613  \n",
       "317  0.927613  \n",
       "318 -1.078036  \n",
       "319 -1.078036  \n",
       "\n",
       "[320 rows x 7 columns]"
      ]
     },
     "execution_count": 11,
     "metadata": {},
     "output_type": "execute_result"
    }
   ],
   "source": [
    "from sklearn.preprocessing import StandardScaler\n",
    "\n",
    "scaler = StandardScaler()\n",
    "X_train_scaled = pd.DataFrame(scaler.fit_transform(X_train), columns=X_train.columns)\n",
    "X_test_scaled = pd.DataFrame(scaler.transform(X_test), columns=X_test.columns)\n",
    "\n",
    "X_train_scaled"
   ]
  },
  {
   "cell_type": "code",
   "execution_count": 12,
   "id": "nbloxKfOr63m",
   "metadata": {
    "id": "nbloxKfOr63m"
   },
   "outputs": [],
   "source": [
    "X_train_final = X_train_scaled\n",
    "X_test_final = X_test_scaled"
   ]
  },
  {
   "cell_type": "markdown",
   "id": "T0GIGewoqtcs",
   "metadata": {
    "id": "T0GIGewoqtcs"
   },
   "source": [
    "## 4-5. Обучение моделей и их метрики"
   ]
  },
  {
   "cell_type": "markdown",
   "id": "XnNKNLhlrJkQ",
   "metadata": {
    "id": "XnNKNLhlrJkQ"
   },
   "source": [
    "Линейная модель:"
   ]
  },
  {
   "cell_type": "code",
   "execution_count": 13,
   "id": "U_vlGsw9rOhl",
   "metadata": {
    "colab": {
     "base_uri": "https://localhost:8080/"
    },
    "id": "U_vlGsw9rOhl",
    "outputId": "88738ff9-d953-4447-a406-a93e701a3cc5"
   },
   "outputs": [
    {
     "name": "stdout",
     "output_type": "stream",
     "text": [
      "[ 0.02099652  0.01639522  0.00844812 -0.00029857  0.01413835  0.0673812\n",
      "  0.01108222]\n",
      "0.7252812500000001\n"
     ]
    }
   ],
   "source": [
    "from sklearn.linear_model import LinearRegression\n",
    "from sklearn.metrics import mean_absolute_error, mean_squared_error, mean_absolute_percentage_error\n",
    "\n",
    "# Обучение модели\n",
    "lr = LinearRegression()\n",
    "lr.fit(X_train_final, Y_train)\n",
    "\n",
    "# Предсказание и оценка модели\n",
    "Y_train_pred = lr.predict(X_train_final)\n",
    "Y_test_pred = lr.predict(X_test_final)\n",
    "\n",
    "# Метрики\n",
    "train_mae_lr = mean_absolute_error(Y_train, Y_train_pred)\n",
    "train_rmse_lr = mean_squared_error(Y_train, Y_train_pred, squared=False)\n",
    "train_mape_lr = mean_absolute_percentage_error(Y_train, Y_train_pred)\n",
    "\n",
    "test_mae_lr = mean_absolute_error(Y_test, Y_test_pred)\n",
    "test_rmse_lr = mean_squared_error(Y_test, Y_test_pred, squared=False)\n",
    "test_mape_lr = mean_absolute_percentage_error(Y_test, Y_test_pred)\n",
    "\n",
    "print(lr.coef_)\n",
    "print(lr.intercept_)\n"
   ]
  },
  {
   "cell_type": "code",
   "execution_count": 14,
   "id": "IQpdcmp344OK",
   "metadata": {
    "colab": {
     "base_uri": "https://localhost:8080/"
    },
    "id": "IQpdcmp344OK",
    "outputId": "375fa627-5de7-4352-b10d-2433fa2e1826"
   },
   "outputs": [
    {
     "name": "stdout",
     "output_type": "stream",
     "text": [
      "Train MAE: 0.043887522473661886, Train RMSE: 0.062212714483595104, Train MAPE: 0.069983493197922\n",
      "Test MAE: 0.04795673362091203, Test RMSE: 0.0679485347692282, Test MAPE: 0.08511848732401703\n"
     ]
    }
   ],
   "source": [
    "print(f'Train MAE: {train_mae_lr}, Train RMSE: {train_rmse_lr}, Train MAPE: {train_mape_lr}')\n",
    "print(f'Test MAE: {test_mae_lr}, Test RMSE: {test_rmse_lr}, Test MAPE: {test_mape_lr}')"
   ]
  },
  {
   "cell_type": "markdown",
   "id": "gD1BNoX3sltm",
   "metadata": {
    "id": "gD1BNoX3sltm"
   },
   "source": [
    "Деревянная модель:"
   ]
  },
  {
   "cell_type": "code",
   "execution_count": 15,
   "id": "hOZzKymJslEB",
   "metadata": {
    "id": "hOZzKymJslEB"
   },
   "outputs": [],
   "source": [
    "from sklearn.tree import DecisionTreeRegressor\n",
    "\n",
    "# Обучение модели\n",
    "tree = DecisionTreeRegressor(max_depth=5, random_state=42)\n",
    "tree.fit(X_train_final, Y_train)\n",
    "\n",
    "# Предсказание и оценка модели\n",
    "Y_train_pred = tree.predict(X_train_final)\n",
    "Y_test_pred = tree.predict(X_test_final)\n",
    "\n",
    "# Метрики\n",
    "train_mae_tree = mean_absolute_error(Y_train, Y_train_pred)\n",
    "train_rmse_tree = mean_squared_error(Y_train, Y_train_pred, squared=False)\n",
    "train_mape_tree = mean_absolute_percentage_error(Y_train, Y_train_pred)\n",
    "\n",
    "test_mae_tree = mean_absolute_error(Y_test, Y_test_pred)\n",
    "test_rmse_tree = mean_squared_error(Y_test, Y_test_pred, squared=False)\n",
    "test_mape_tree = mean_absolute_percentage_error(Y_test, Y_test_pred)"
   ]
  },
  {
   "cell_type": "code",
   "execution_count": 16,
   "id": "EVC5KoCB5Agw",
   "metadata": {
    "colab": {
     "base_uri": "https://localhost:8080/"
    },
    "id": "EVC5KoCB5Agw",
    "outputId": "3ec9665f-f8e6-4b0b-a46b-c2c6522c5231"
   },
   "outputs": [
    {
     "name": "stdout",
     "output_type": "stream",
     "text": [
      "Train MAE: 0.03836455592105263, Train RMSE: 0.053417440063714454, Train MAPE: 0.06051459119583824\n",
      "Test MAE: 0.053098249767410934, Test RMSE: 0.07657657064044084, Test MAPE: 0.09222199638709996\n"
     ]
    }
   ],
   "source": [
    "print(f'Train MAE: {train_mae_tree}, Train RMSE: {train_rmse_tree}, Train MAPE: {train_mape_tree}')\n",
    "print(f'Test MAE: {test_mae_tree}, Test RMSE: {test_rmse_tree}, Test MAPE: {test_mape_tree}')"
   ]
  },
  {
   "cell_type": "markdown",
   "id": "CFHjbmprtPWV",
   "metadata": {
    "id": "CFHjbmprtPWV"
   },
   "source": [
    "К-ближайших соседей:"
   ]
  },
  {
   "cell_type": "code",
   "execution_count": 17,
   "id": "QjDCPWQDtOw8",
   "metadata": {
    "id": "QjDCPWQDtOw8"
   },
   "outputs": [],
   "source": [
    "from sklearn.neighbors import KNeighborsRegressor\n",
    "\n",
    "# Обучение модели\n",
    "knn = KNeighborsRegressor(n_neighbors=5)\n",
    "knn.fit(X_train_final, Y_train)\n",
    "\n",
    "# Предсказание и оценка модели\n",
    "Y_train_pred = knn.predict(X_train_final)\n",
    "Y_test_pred = knn.predict(X_test_final)\n",
    "\n",
    "# Метрики\n",
    "train_mae_knn = mean_absolute_error(Y_train, Y_train_pred)\n",
    "train_rmse_knn = mean_squared_error(Y_train, Y_train_pred, squared=False)\n",
    "train_mape_knn = mean_absolute_percentage_error(Y_train, Y_train_pred)\n",
    "\n",
    "test_mae_knn = mean_absolute_error(Y_test, Y_test_pred)\n",
    "test_rmse_knn = mean_squared_error(Y_test, Y_test_pred, squared=False)\n",
    "test_mape_knn = mean_absolute_percentage_error(Y_test, Y_test_pred)\n"
   ]
  },
  {
   "cell_type": "code",
   "execution_count": 18,
   "id": "gNNgPGPM5CWa",
   "metadata": {
    "colab": {
     "base_uri": "https://localhost:8080/"
    },
    "id": "gNNgPGPM5CWa",
    "outputId": "70df9ced-b9c0-46d9-e1ee-a07a683d3561"
   },
   "outputs": [
    {
     "name": "stdout",
     "output_type": "stream",
     "text": [
      "Train MAE: 0.040618749999999995, Train RMSE: 0.05652422047228957, Train MAPE: 0.0652328528902097\n",
      "Test MAE: 0.05422499999999999, Test RMSE: 0.07937285430170694, Test MAPE: 0.09776720278510456\n"
     ]
    }
   ],
   "source": [
    "print(f'Train MAE: {train_mae_knn}, Train RMSE: {train_rmse_knn}, Train MAPE: {train_mape_knn}')\n",
    "print(f'Test MAE: {test_mae_knn}, Test RMSE: {test_rmse_knn}, Test MAPE: {test_mape_knn}')"
   ]
  },
  {
   "cell_type": "markdown",
   "id": "Cqve13s_txyx",
   "metadata": {
    "id": "Cqve13s_txyx"
   },
   "source": [
    "Случайный лес:"
   ]
  },
  {
   "cell_type": "code",
   "execution_count": 19,
   "id": "lutNHbyAt02G",
   "metadata": {
    "id": "lutNHbyAt02G"
   },
   "outputs": [],
   "source": [
    "from sklearn.ensemble import RandomForestRegressor\n",
    "\n",
    "# Обучение модели\n",
    "rf = RandomForestRegressor(n_estimators=100, max_depth=5, random_state=42)\n",
    "rf.fit(X_train_final, Y_train)\n",
    "\n",
    "# Предсказание и оценка модели\n",
    "Y_train_pred = rf.predict(X_train_final)\n",
    "Y_test_pred = rf.predict(X_test_final)\n",
    "\n",
    "# Метрики\n",
    "train_mae_rf = mean_absolute_error(Y_train, Y_train_pred)\n",
    "train_rmse_rf = mean_squared_error(Y_train, Y_train_pred, squared=False)\n",
    "train_mape_rf = mean_absolute_percentage_error(Y_train, Y_train_pred)\n",
    "\n",
    "test_mae_rf = mean_absolute_error(Y_test, Y_test_pred)\n",
    "test_rmse_rf = mean_squared_error(Y_test, Y_test_pred, squared=False)\n",
    "test_mape_rf = mean_absolute_percentage_error(Y_test, Y_test_pred)\n"
   ]
  },
  {
   "cell_type": "code",
   "execution_count": 20,
   "id": "GwzK2EcV5EbE",
   "metadata": {
    "colab": {
     "base_uri": "https://localhost:8080/"
    },
    "id": "GwzK2EcV5EbE",
    "outputId": "0adee128-c33a-48b5-d4ac-0cbc6f1b583f"
   },
   "outputs": [
    {
     "name": "stdout",
     "output_type": "stream",
     "text": [
      "Train MAE: 0.03528474416973796, Train RMSE: 0.047885209864870645, Train MAPE: 0.05570010701811884\n",
      "Test MAE: 0.047632153353134137, Test RMSE: 0.06907357974448254, Test MAPE: 0.08411192300529027\n"
     ]
    }
   ],
   "source": [
    "print(f'Train MAE: {train_mae_rf}, Train RMSE: {train_rmse_rf}, Train MAPE: {train_mape_rf}')\n",
    "print(f'Test MAE: {test_mae_rf}, Test RMSE: {test_rmse_rf}, Test MAPE: {test_mape_rf}')"
   ]
  },
  {
   "cell_type": "markdown",
   "id": "JAUEakmLx9LI",
   "metadata": {
    "id": "JAUEakmLx9LI"
   },
   "source": [
    "## 6. Сравнение моделей и выводы"
   ]
  },
  {
   "cell_type": "markdown",
   "id": "2UNeG8FzyS-j",
   "metadata": {
    "id": "2UNeG8FzyS-j"
   },
   "source": [
    "Сравнение по метрикам:"
   ]
  },
  {
   "cell_type": "code",
   "execution_count": 21,
   "id": "WqWVkG3QyZvS",
   "metadata": {
    "colab": {
     "base_uri": "https://localhost:8080/",
     "height": 175
    },
    "id": "WqWVkG3QyZvS",
    "outputId": "5799d9f4-d199-4586-e379-075bf10388b8"
   },
   "outputs": [
    {
     "data": {
      "text/html": [
       "<div>\n",
       "<style scoped>\n",
       "    .dataframe tbody tr th:only-of-type {\n",
       "        vertical-align: middle;\n",
       "    }\n",
       "\n",
       "    .dataframe tbody tr th {\n",
       "        vertical-align: top;\n",
       "    }\n",
       "\n",
       "    .dataframe thead th {\n",
       "        text-align: right;\n",
       "    }\n",
       "</style>\n",
       "<table border=\"1\" class=\"dataframe\">\n",
       "  <thead>\n",
       "    <tr style=\"text-align: right;\">\n",
       "      <th></th>\n",
       "      <th>Model</th>\n",
       "      <th>Train MAE</th>\n",
       "      <th>Test MAE</th>\n",
       "      <th>Train RMSE</th>\n",
       "      <th>Test RMSE</th>\n",
       "      <th>Train MAPE</th>\n",
       "      <th>Test MAPE</th>\n",
       "    </tr>\n",
       "  </thead>\n",
       "  <tbody>\n",
       "    <tr>\n",
       "      <th>0</th>\n",
       "      <td>Linear Regression</td>\n",
       "      <td>0.043888</td>\n",
       "      <td>0.047957</td>\n",
       "      <td>0.062213</td>\n",
       "      <td>0.067949</td>\n",
       "      <td>0.069983</td>\n",
       "      <td>0.085118</td>\n",
       "    </tr>\n",
       "    <tr>\n",
       "      <th>1</th>\n",
       "      <td>Decision Tree</td>\n",
       "      <td>0.038365</td>\n",
       "      <td>0.053098</td>\n",
       "      <td>0.053417</td>\n",
       "      <td>0.076577</td>\n",
       "      <td>0.060515</td>\n",
       "      <td>0.092222</td>\n",
       "    </tr>\n",
       "    <tr>\n",
       "      <th>2</th>\n",
       "      <td>K-Nearest Neighbors</td>\n",
       "      <td>0.040619</td>\n",
       "      <td>0.054225</td>\n",
       "      <td>0.056524</td>\n",
       "      <td>0.079373</td>\n",
       "      <td>0.065233</td>\n",
       "      <td>0.097767</td>\n",
       "    </tr>\n",
       "    <tr>\n",
       "      <th>3</th>\n",
       "      <td>Random Forest</td>\n",
       "      <td>0.035285</td>\n",
       "      <td>0.047632</td>\n",
       "      <td>0.047885</td>\n",
       "      <td>0.069074</td>\n",
       "      <td>0.055700</td>\n",
       "      <td>0.084112</td>\n",
       "    </tr>\n",
       "  </tbody>\n",
       "</table>\n",
       "</div>"
      ],
      "text/plain": [
       "                 Model  Train MAE  Test MAE  Train RMSE  Test RMSE  \\\n",
       "0    Linear Regression   0.043888  0.047957    0.062213   0.067949   \n",
       "1        Decision Tree   0.038365  0.053098    0.053417   0.076577   \n",
       "2  K-Nearest Neighbors   0.040619  0.054225    0.056524   0.079373   \n",
       "3        Random Forest   0.035285  0.047632    0.047885   0.069074   \n",
       "\n",
       "   Train MAPE  Test MAPE  \n",
       "0    0.069983   0.085118  \n",
       "1    0.060515   0.092222  \n",
       "2    0.065233   0.097767  \n",
       "3    0.055700   0.084112  "
      ]
     },
     "execution_count": 21,
     "metadata": {},
     "output_type": "execute_result"
    }
   ],
   "source": [
    "results = {\n",
    "    'Model': ['Linear Regression', 'Decision Tree', 'K-Nearest Neighbors', 'Random Forest'],\n",
    "    'Train MAE': [train_mae_lr, train_mae_tree, train_mae_knn, train_mae_rf],\n",
    "    'Test MAE': [test_mae_lr, test_mae_tree, test_mae_knn, test_mae_rf],\n",
    "    'Train RMSE': [train_rmse_lr, train_rmse_tree, train_rmse_knn, train_rmse_rf],\n",
    "    'Test RMSE': [test_rmse_lr, test_rmse_tree, test_rmse_knn, test_rmse_rf],\n",
    "    'Train MAPE': [train_mape_lr, train_mape_tree, train_mape_knn, train_mape_rf],\n",
    "    'Test MAPE': [test_mape_lr, test_mape_tree, test_mape_knn, test_mape_rf]\n",
    "}\n",
    "\n",
    "results_df = pd.DataFrame(results)\n",
    "results_df\n"
   ]
  },
  {
   "cell_type": "markdown",
   "id": "PInhMJoH1SF_",
   "metadata": {
    "id": "PInhMJoH1SF_"
   },
   "source": [
    "1. Какая модель справилась лучше с поставленной задачей?"
   ]
  },
  {
   "cell_type": "code",
   "execution_count": 22,
   "id": "J4RkmAYK09z1",
   "metadata": {
    "colab": {
     "base_uri": "https://localhost:8080/"
    },
    "id": "J4RkmAYK09z1",
    "outputId": "226497a7-7421-464c-9d24-01f8af32e4af"
   },
   "outputs": [
    {
     "name": "stdout",
     "output_type": "stream",
     "text": [
      "Лучшей моделью является: Random Forest\n",
      "Лучшей моделью является: Linear Regression\n",
      "Лучшей моделью является: Random Forest\n"
     ]
    }
   ],
   "source": [
    "best_model = results_df.loc[results_df['Test MAE'].idxmin()]['Model']\n",
    "print(f'Лучшей моделью является: {best_model}')\n",
    "\n",
    "best_model = results_df.loc[results_df['Test RMSE'].idxmin()]['Model']\n",
    "print(f'Лучшей моделью является: {best_model}')\n",
    "\n",
    "best_model = results_df.loc[results_df['Test MAPE'].idxmin()]['Model']\n",
    "print(f'Лучшей моделью является: {best_model}')"
   ]
  },
  {
   "cell_type": "markdown",
   "id": "qFqHGvSr1jOq",
   "metadata": {
    "id": "qFqHGvSr1jOq"
   },
   "source": [
    "Можно увидеть, что Random Forest имеет маленькие значения метрик. То есть он справился наиболее точным образом."
   ]
  },
  {
   "cell_type": "markdown",
   "id": "48L98YrL2Dsj",
   "metadata": {
    "id": "48L98YrL2Dsj"
   },
   "source": [
    "2. Имеет ли место переобучение?"
   ]
  },
  {
   "cell_type": "code",
   "execution_count": 23,
   "id": "MTBFltfm2FjE",
   "metadata": {
    "colab": {
     "base_uri": "https://localhost:8080/"
    },
    "id": "MTBFltfm2FjE",
    "outputId": "9f5bc88c-395d-4890-f547-5ed1f4ba1a0f"
   },
   "outputs": [
    {
     "name": "stdout",
     "output_type": "stream",
     "text": [
      "                 Model  MAE Difference  RMSE Difference  MAPE Difference\n",
      "0    Linear Regression       -0.004069        -0.005736        -0.015135\n",
      "1        Decision Tree       -0.014734        -0.023159        -0.031707\n",
      "2  K-Nearest Neighbors       -0.013606        -0.022849        -0.032534\n",
      "3        Random Forest       -0.012347        -0.021188        -0.028412\n"
     ]
    }
   ],
   "source": [
    "results_df['MAE Difference'] = results_df['Train MAE'] - results_df['Test MAE']\n",
    "results_df['RMSE Difference'] = results_df['Train RMSE'] - results_df['Test RMSE']\n",
    "results_df['MAPE Difference'] = results_df['Train MAPE'] - results_df['Test MAPE']\n",
    "print(results_df[['Model', 'MAE Difference', 'RMSE Difference', 'MAPE Difference']])\n"
   ]
  },
  {
   "cell_type": "markdown",
   "id": "77R175Sb2hiS",
   "metadata": {
    "id": "77R175Sb2hiS"
   },
   "source": [
    " Разница между тренировочными и тестовыми метриками маленькая, это указывает на отсутствие переобучения."
   ]
  },
  {
   "cell_type": "markdown",
   "id": "hR_t2IMp2qmR",
   "metadata": {
    "id": "hR_t2IMp2qmR"
   },
   "source": [
    "3. Имеет ли место недообучение?"
   ]
  },
  {
   "cell_type": "markdown",
   "id": "ul-v7EAt26aZ",
   "metadata": {
    "id": "ul-v7EAt26aZ"
   },
   "source": [
    "Можно увидеть, что модель хорошо работает как на тренировочных, так и на тестовых данных. Поэтому недообучения не наблюдается."
   ]
  },
  {
   "cell_type": "markdown",
   "id": "K7aJqznN3G1R",
   "metadata": {
    "id": "K7aJqznN3G1R"
   },
   "source": [
    "4. Как можно улучшить метрики моделей?"
   ]
  },
  {
   "cell_type": "markdown",
   "id": "sloxGTdr3Pk8",
   "metadata": {
    "id": "sloxGTdr3Pk8"
   },
   "source": [
    "Можно попробовать отрегулировать количество тренировочных данных (например, увеличение данных)   \n",
    "Можно оптимизировать гиперпараметры некоторых моделей     \n",
    "Можно попробовать более сложные модели"
   ]
  }
 ],
 "metadata": {
  "colab": {
   "include_colab_link": true,
   "provenance": []
  },
  "kernelspec": {
   "display_name": "Python 3 (ipykernel)",
   "language": "python",
   "name": "python3"
  },
  "language_info": {
   "codemirror_mode": {
    "name": "ipython",
    "version": 3
   },
   "file_extension": ".py",
   "mimetype": "text/x-python",
   "name": "python",
   "nbconvert_exporter": "python",
   "pygments_lexer": "ipython3",
   "version": "3.11.5"
  }
 },
 "nbformat": 4,
 "nbformat_minor": 5
}
